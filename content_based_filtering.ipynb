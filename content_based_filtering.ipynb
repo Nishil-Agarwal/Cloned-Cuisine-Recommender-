{
 "cells": [
  {
   "cell_type": "code",
   "execution_count": 25,
   "metadata": {},
   "outputs": [
    {
     "name": "stdout",
     "output_type": "stream",
     "text": [
      "(14900, 1435)\n",
      "['Amaretto Biscotti With Almonds', 'Amaretto Muffins', \"Banana Bread (Pillsbury's Recipe)\", 'Black Forest Preserves', 'Chewy Chocolate Cookies']\n"
     ]
    }
   ],
   "source": [
    "import numpy as np\n",
    "import pandas as pd\n",
    "from sklearn.feature_extraction.text import TfidfVectorizer\n",
    "from sklearn.metrics.pairwise import linear_kernel\n",
    "\n",
    "df = pd.read_csv('Final_Processed_Dataset.csv')\n",
    "unique_df = df.drop_duplicates(subset='RecipeId', keep='first')\n",
    "\n",
    "unique_df.shape\n",
    "\n",
    "# print(unique_ingredients[:5])\n",
    "\n",
    "tfidf = TfidfVectorizer()\n",
    "tfidf_matrix = tfidf.fit_transform(unique_df['RecipeIngredientParts'])\n",
    "\n",
    "print(tfidf_matrix.shape)\n",
    "\n",
    "cosine_sim = linear_kernel(tfidf_matrix, tfidf_matrix)\n",
    "indices = pd.Series(unique_df.index, index=unique_df['Name']).drop_duplicates()\n",
    "\n",
    "def get_recommendations(title, cosine_sim=cosine_sim):\n",
    "    idx = indices[title]\n",
    "    sim_scores = list(enumerate(cosine_sim[idx]))\n",
    "    sim_scores = sorted(sim_scores, key=lambda x: x[1], reverse=True)  # Sort by similarity score\n",
    "    sim_scores = sim_scores[1:6]\n",
    "    recipe_indices = [i[0] for i in sim_scores]\n",
    "    \n",
    "    recommended_recipes = set()\n",
    "    unique_recipes = []\n",
    "    \n",
    "    for i in recipe_indices:\n",
    "        recipe_title = unique_df['Name'].iloc[i]\n",
    "        if recipe_title not in recommended_recipes:\n",
    "            unique_recipes.append(recipe_title)\n",
    "            recommended_recipes.add(recipe_title)\n",
    "    \n",
    "    return unique_recipes\n",
    "\n",
    "print(get_recommendations('Buttermilk Pie'))\n"
   ]
  },
  {
   "cell_type": "code",
   "execution_count": null,
   "metadata": {},
   "outputs": [],
   "source": [
    "\n"
   ]
  }
 ],
 "metadata": {
  "kernelspec": {
   "display_name": "Python 3",
   "language": "python",
   "name": "python3"
  },
  "language_info": {
   "codemirror_mode": {
    "name": "ipython",
    "version": 3
   },
   "file_extension": ".py",
   "mimetype": "text/x-python",
   "name": "python",
   "nbconvert_exporter": "python",
   "pygments_lexer": "ipython3",
   "version": "3.11.9"
  }
 },
 "nbformat": 4,
 "nbformat_minor": 2
}
