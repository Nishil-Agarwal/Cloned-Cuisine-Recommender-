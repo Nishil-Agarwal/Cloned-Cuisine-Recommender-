{
 "cells": [
  {
   "cell_type": "code",
   "execution_count": 1,
   "metadata": {},
   "outputs": [],
   "source": [
    "import numpy as np\n",
    "import pandas as pd\n",
    "from sklearn.feature_extraction.text import TfidfVectorizer\n",
    "from sklearn.metrics.pairwise import linear_kernel"
   ]
  },
  {
   "cell_type": "markdown",
   "metadata": {},
   "source": [
    "Extracting Unique Recipes for content based filtering:"
   ]
  },
  {
   "cell_type": "code",
   "execution_count": 2,
   "metadata": {},
   "outputs": [],
   "source": [
    "df = pd.read_csv('Final_Processed_Dataset.csv')\n",
    "unique_df = df.drop_duplicates(subset='RecipeId', keep='first').reset_index(drop=True)"
   ]
  },
  {
   "cell_type": "markdown",
   "metadata": {},
   "source": [
    "TF-IDF Vectorization:"
   ]
  },
  {
   "cell_type": "code",
   "execution_count": 3,
   "metadata": {},
   "outputs": [],
   "source": [
    "tfidf = TfidfVectorizer()\n",
    "tfidf_matrix = tfidf.fit_transform(unique_df['RecipeIngredientParts'])"
   ]
  },
  {
   "cell_type": "markdown",
   "metadata": {},
   "source": [
    "Computing Cosine Similarity and Indexing:"
   ]
  },
  {
   "cell_type": "code",
   "execution_count": 4,
   "metadata": {},
   "outputs": [],
   "source": [
    "cosine_sim = linear_kernel(tfidf_matrix, tfidf_matrix)\n",
    "indices = pd.Series(unique_df.index, index=unique_df['Name']).drop_duplicates()"
   ]
  },
  {
   "cell_type": "markdown",
   "metadata": {},
   "source": [
    "Recommendation Function:"
   ]
  },
  {
   "cell_type": "code",
   "execution_count": 5,
   "metadata": {},
   "outputs": [],
   "source": [
    "def get_recommendations(title, cosine_sim=cosine_sim):\n",
    "    idx = indices[title]\n",
    "    sim_scores = list(enumerate(cosine_sim[idx]))\n",
    "    sim_scores = sorted(sim_scores, key=lambda x: x[1], reverse=True)  # Sort by similarity score\n",
    "    sim_scores = sim_scores[1:6]\n",
    "    recipe_indices = [i[0] for i in sim_scores]\n",
    "    \n",
    "    recommended_recipes = set()\n",
    "    unique_recipes = []\n",
    "    \n",
    "    for i in recipe_indices:\n",
    "        recipe_title = unique_df['Name'].iloc[i]\n",
    "        if recipe_title not in recommended_recipes:\n",
    "            unique_recipes.append(recipe_title)\n",
    "            recommended_recipes.add(recipe_title)\n",
    "    \n",
    "    return unique_recipes"
   ]
  },
  {
   "cell_type": "markdown",
   "metadata": {},
   "source": [
    "Printing Recommendations:"
   ]
  },
  {
   "cell_type": "code",
   "execution_count": 10,
   "metadata": {},
   "outputs": [
    {
     "name": "stdout",
     "output_type": "stream",
     "text": [
      "['Chocolate Pudding Cake', 'Apricot Squares', 'Chocolate Doughnuts', 'Hot Fudge Pudding Cake II', 'Fresh Peach Upside Down Cake']\n",
      "['Chocolate Coated Orange Peels', 'Yankee Grapefruit Meringue Pie', 'Summer Fruit Bowl', 'Hemingway Special- a Caribbean Inspired Cocktail', 'Chicken Waldorf Salad']\n",
      "['Chicken Biryani II', 'Exotic and Sweet Moroccan Chicken with Spicy Rice', 'Easy African Sweet Potato Patties', 'Indian Corn Pilaf', 'Basmati Rice with Vegetables']\n"
     ]
    }
   ],
   "source": [
    "print(get_recommendations('Brownie Pudding'))\n",
    "print(get_recommendations('Brown Bag Apple Salad'))\n",
    "print(get_recommendations('Chicken Curry'))"
   ]
  }
 ],
 "metadata": {
  "kernelspec": {
   "display_name": "Python 3",
   "language": "python",
   "name": "python3"
  },
  "language_info": {
   "codemirror_mode": {
    "name": "ipython",
    "version": 3
   },
   "file_extension": ".py",
   "mimetype": "text/x-python",
   "name": "python",
   "nbconvert_exporter": "python",
   "pygments_lexer": "ipython3",
   "version": "3.11.9"
  }
 },
 "nbformat": 4,
 "nbformat_minor": 2
}
