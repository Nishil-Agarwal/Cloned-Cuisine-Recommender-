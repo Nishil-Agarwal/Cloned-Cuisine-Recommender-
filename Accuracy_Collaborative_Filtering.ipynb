{
 "cells": [
  {
   "cell_type": "markdown",
   "metadata": {},
   "source": [
    "Accuracy Testing achieved using k-fold Cross Validation (k=1000 here) and choosing few folds for subsampling to reduce computational burden"
   ]
  },
  {
   "cell_type": "code",
   "execution_count": 8,
   "metadata": {},
   "outputs": [],
   "source": [
    "import pandas as pd\n",
    "import numpy as np\n",
    "from sklearn.metrics.pairwise import cosine_similarity\n",
    "from sklearn.model_selection import KFold"
   ]
  },
  {
   "cell_type": "markdown",
   "metadata": {},
   "source": [
    "Breaking dataset into 1000 train and val sets. Then choosing 5 out of the 1000 to reduce computational work:"
   ]
  },
  {
   "cell_type": "code",
   "execution_count": 9,
   "metadata": {},
   "outputs": [],
   "source": [
    "k=1000\n",
    "k_datasets_maker = KFold(n_splits=k, shuffle=True, random_state=42)\n",
    "train_datasets=[]\n",
    "val_datasets=[]\n",
    "final_processed_data=pd.read_csv(r\"Final_Processed_Dataset.csv\")\n",
    "reviewers=final_processed_data[\"ReviewerName\"].unique()\n",
    "\n",
    "#Subsampling from among 1000 folds to 5\n",
    "a=[i for i in range(1000)]\n",
    "import random\n",
    "random.shuffle(a)\n",
    "b=a[0:5]\n",
    "\n",
    "split_data=list(k_datasets_maker.split(reviewers))\n",
    "\n",
    "for i in b:\n",
    "    train_idx=split_data[i][0]\n",
    "    val_idx=split_data[i][1]\n",
    "    train_reviewers = reviewers[train_idx]\n",
    "    val_reviewers = reviewers[val_idx]\n",
    "\n",
    "    train_data = final_processed_data[final_processed_data[\"ReviewerName\"].isin(train_reviewers)]\n",
    "    val_data = final_processed_data[final_processed_data[\"ReviewerName\"].isin(val_reviewers)]\n",
    "\n",
    "    train_datasets.append(train_data)\n",
    "    val_datasets.append(val_data)"
   ]
  },
  {
   "cell_type": "markdown",
   "metadata": {},
   "source": [
    "Dividing val set entries into 2 parts : one that will be required for calculating similarity with other users and other that will serve as ground truth"
   ]
  },
  {
   "cell_type": "code",
   "execution_count": 10,
   "metadata": {},
   "outputs": [],
   "source": [
    "reviewers_for_val_sets=[]\n",
    "ground_truths=[]\n",
    "\n",
    "for i in range(5):\n",
    "    val_data_iteration=val_datasets[i]\n",
    "    reviewers_for_val_sets.append(val_data_iteration[\"ReviewerName\"].unique())\n",
    "    \n",
    "    ground_truth=[]\n",
    "\n",
    "    for j in reviewers_for_val_sets[-1]:\n",
    "        half_size = val_data_iteration[val_data_iteration[\"ReviewerName\"] == j].shape[0] // 2\n",
    "        actual_vals = val_data_iteration[val_data_iteration[\"ReviewerName\"] == j].iloc[:half_size]\n",
    "        rest_data = val_data_iteration[val_data_iteration[\"ReviewerName\"] == j].iloc[half_size:]\n",
    "        train_datasets[i]=pd.concat([train_datasets[i],rest_data])\n",
    "        ground_truth.append(actual_vals)\n",
    "    \n",
    "    ground_truths.append(pd.concat(ground_truth))\n",
    "# print(ground_truths)\n",
    "# for i in ground_truths:\n",
    "#     print(i.shape)"
   ]
  },
  {
   "cell_type": "markdown",
   "metadata": {},
   "source": [
    "Collaborative filtering precision on a pair of train and val dataset calculator function :"
   ]
  },
  {
   "cell_type": "code",
   "execution_count": 11,
   "metadata": {},
   "outputs": [],
   "source": [
    "def collab_filter(train_set_iteration,val_set_reviewers,ground_truth):\n",
    "    reviewer_recipe_rating_matrix = train_set_iteration.pivot_table(index='ReviewerName', columns='Name', values='Rating')\n",
    "\n",
    "    def normalise_rating(user_ratings):\n",
    "        return user_ratings/user_ratings.sum()*user_ratings.count()\n",
    "\n",
    "    reviewer_recipe_rating_matrix=reviewer_recipe_rating_matrix.apply(normalise_rating,axis=1)\n",
    "    reviewer_recipe_rating_relation_matrix=reviewer_recipe_rating_matrix.fillna(0)\n",
    "\n",
    "    from scipy.sparse import csr_matrix\n",
    "    reviewer_recipe_rating_relation_matrix=csr_matrix(reviewer_recipe_rating_relation_matrix.values)\n",
    "    cosine_similarity_matrix=cosine_similarity(reviewer_recipe_rating_relation_matrix)\n",
    "    cosine_similarity_matrix = pd.DataFrame(cosine_similarity_matrix, index=reviewer_recipe_rating_matrix.index, columns=reviewer_recipe_rating_matrix.index)\n",
    "\n",
    "    precision_array=[]\n",
    "\n",
    "    for user in val_set_reviewers:\n",
    "        user_similarity=cosine_similarity_matrix[user]\n",
    "        user_similarity.drop(user,inplace=True)\n",
    "        user_similarity=user_similarity.reset_index()\n",
    "        reviewer_recipe_rating_matrix_temp=reviewer_recipe_rating_matrix.reset_index()\n",
    "\n",
    "        user_data=reviewer_recipe_rating_matrix_temp[reviewer_recipe_rating_matrix_temp[\"ReviewerName\"]==user]\n",
    "        user_data=user_data.drop(\"ReviewerName\",axis=1)\n",
    "        already_rated = user_data.loc[:, user_data.notna().any()]\n",
    "        reviewer_recipe_rating_matrix_temp.drop(columns=already_rated.columns.tolist(),inplace=True)\n",
    "\n",
    "        def apply_similarity_weights(row):\n",
    "            return row*row.loc[user]\n",
    "\n",
    "        merged_data=pd.merge(user_similarity,reviewer_recipe_rating_matrix_temp,on=\"ReviewerName\")\n",
    "        merged_data.drop(\"ReviewerName\",axis=1,inplace=True)\n",
    "        merged_data=merged_data.apply(apply_similarity_weights,axis=1)\n",
    "\n",
    "        def weighted_ratings(column):\n",
    "            return column/column.count()\n",
    "        \n",
    "        merged_data=merged_data.apply(weighted_ratings,axis=0)\n",
    "        merged_data.drop(user,axis=1,inplace=True)\n",
    "\n",
    "        top_5_recommend=set(merged_data.sum(axis=0).sort_values(ascending=False).iloc[0:5].reset_index()[\"index\"])\n",
    "        #Fetching actual top 5 ratings of dishes that have not been tasted yet:\n",
    "        actual_top_5=set(ground_truth[ground_truth[\"ReviewerName\"]==user][[\"Name\", \"Rating\"]].sort_values(by=\"Rating\",ascending=False).head(5)[\"Name\"])\n",
    "        #Calculating precision of predictions for a specific user :\n",
    "        c=len(top_5_recommend.intersection(actual_top_5))\n",
    "        precision_array.append(c/5)\n",
    "    #Overall precision for val dataset\n",
    "    return sum(precision_array)/len(precision_array)"
   ]
  },
  {
   "cell_type": "markdown",
   "metadata": {},
   "source": [
    "Calculating precision at K accuracy for all 5 subsets of k-fold"
   ]
  },
  {
   "cell_type": "code",
   "execution_count": 12,
   "metadata": {},
   "outputs": [],
   "source": [
    "precision_lst=[]\n",
    "for i in range(5):\n",
    "    precision_lst.append(collab_filter(train_datasets[i],reviewers_for_val_sets[i],ground_truths[i]))"
   ]
  },
  {
   "cell_type": "markdown",
   "metadata": {},
   "source": [
    "Creating graph for precision for each cross validation subdataset :"
   ]
  },
  {
   "cell_type": "code",
   "execution_count": 13,
   "metadata": {},
   "outputs": [
    {
     "data": {
      "image/png": "[encoded data removed]",
      "text/plain": [
       "<Figure size 640x480 with 1 Axes>"
      ]
     },
     "metadata": {},
     "output_type": "display_data"
    }
   ],
   "source": [
    "import matplotlib.pyplot as plt\n",
    "plt.scatter(x=[1,2,3,4,5],y=precision_lst,label=\"Precision Graph\")\n",
    "plt.show()"
   ]
  },
  {
   "cell_type": "markdown",
   "metadata": {},
   "source": [
    "Overall Accuracy"
   ]
  },
  {
   "cell_type": "code",
   "execution_count": 14,
   "metadata": {},
   "outputs": [
    {
     "name": "stdout",
     "output_type": "stream",
     "text": [
      "0.0\n"
     ]
    }
   ],
   "source": [
    "print(sum(precision_lst)/5*100)"
   ]
  },
  {
   "cell_type": "markdown",
   "metadata": {},
   "source": [
    "We get extremely poor accuracy as data is sparse in cosine similarity matrix. Most dishes being suggested are simply those which are liked by most as hardly any preference of users is matching due to sparseness.\n",
    "Hence, weights for each user's rating are not getting calculated as desired."
   ]
  },
  {
   "cell_type": "markdown",
   "metadata": {},
   "source": [
    "Also, we are using the user's already rated dishes for ground_truth. As most user have hardly tried any dishes, hence the suggested dishes (from among 14000 dishes) may not belong to the small set of grounf truth anyways! There might exist many better dishes suited for user than the ones he has already tried (used as ground truth).\n",
    "\n",
    "This issue might get rectified if all users have tried a lot of dishes. (User-Recipe-Rating matrix is not sparse)\n",
    "\n",
    "However this is unlikely to be a practical case in an actual food recommender system."
   ]
  }
 ],
 "metadata": {
  "kernelspec": {
   "display_name": "Python 3",
   "language": "python",
   "name": "python3"
  },
  "language_info": {
   "codemirror_mode": {
    "name": "ipython",
    "version": 3
   },
   "file_extension": ".py",
   "mimetype": "text/x-python",
   "name": "python",
   "nbconvert_exporter": "python",
   "pygments_lexer": "ipython3",
   "version": "3.11.4"
  }
 },
 "nbformat": 4,
 "nbformat_minor": 2
}
