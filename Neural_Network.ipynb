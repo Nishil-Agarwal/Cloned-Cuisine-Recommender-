{
 "cells": [
  {
   "cell_type": "code",
   "execution_count": 37,
   "metadata": {},
   "outputs": [],
   "source": [
    "import tensorflow.keras as keras\n",
    "import tensorflow as tf\n",
    "from tensorflow.keras.models import Sequential\n",
    "from tensorflow.keras.layers import Dense, Embedding, Flatten\n",
    "import pandas as pd\n",
    "import numpy as np\n",
    "from sklearn.preprocessing import StandardScaler\n",
    "from sklearn.model_selection import train_test_split"
   ]
  },
  {
   "cell_type": "markdown",
   "metadata": {},
   "source": [
    "Loading dataset and counting number of dishes and users to feed into NN :"
   ]
  },
  {
   "cell_type": "code",
   "execution_count": 38,
   "metadata": {},
   "outputs": [],
   "source": [
    "final_processed_dataset=pd.read_csv(r\"Final_Processed_Dataset.csv\")\n",
    "final_processed_dataset_initial=final_processed_dataset\n",
    "number_of_users=final_processed_dataset[\"Name\"].unique().shape[0]\n",
    "number_of_dishes=final_processed_dataset[\"ReviewerName\"].unique().shape[0]"
   ]
  },
  {
   "cell_type": "markdown",
   "metadata": {},
   "source": [
    "Dropping some columns to make computation feasible :"
   ]
  },
  {
   "cell_type": "code",
   "execution_count": 39,
   "metadata": {},
   "outputs": [],
   "source": [
    "final_processed_dataset=final_processed_dataset.drop(columns=['Name', 'AuthorId', 'AuthorName', 'DatePublished', 'CookTime', 'PrepTime', \"ReviewerName\", 'ReviewerID', 'RecipeIngredientParts', 'CholesterolContent', 'SodiumContent', 'RecipeServings', 'AggregatedRating', 'ReviewCount', 'RecipeCategory'])"
   ]
  },
  {
   "cell_type": "code",
   "execution_count": 40,
   "metadata": {},
   "outputs": [],
   "source": [
    "values_to_predict=final_processed_dataset[\"Rating\"]"
   ]
  },
  {
   "cell_type": "markdown",
   "metadata": {},
   "source": [
    "Scaling the input train and test data :"
   ]
  },
  {
   "cell_type": "code",
   "execution_count": 41,
   "metadata": {},
   "outputs": [],
   "source": [
    "x_train, x_test, y_train, y_test = train_test_split(final_processed_dataset, values_to_predict, test_size=0.2, random_state=42)\n",
    "\n",
    "scaler = StandardScaler()\n",
    "x_train_scaled = scaler.fit_transform(x_train)\n",
    "x_test_scaled = scaler.transform(x_test)"
   ]
  },
  {
   "cell_type": "markdown",
   "metadata": {},
   "source": [
    "Creating model structure with 32 nodes in first hidden layer and 8 in next one. prediction layer has only 1 node representing predicted Rating for a dish per user. Activation used is Relu."
   ]
  },
  {
   "cell_type": "code",
   "execution_count": 42,
   "metadata": {},
   "outputs": [],
   "source": [
    "model = Sequential([\n",
    "    Embedding(input_dim=number_of_users + number_of_dishes, output_dim=50),\n",
    "    Flatten(),\n",
    "    Dense(32, activation=\"relu\"),\n",
    "    Dense(8,activation=\"relu\"),\n",
    "    Dense(1)\n",
    "])"
   ]
  },
  {
   "cell_type": "markdown",
   "metadata": {},
   "source": [
    "Training the NN :"
   ]
  },
  {
   "cell_type": "code",
   "execution_count": 43,
   "metadata": {},
   "outputs": [
    {
     "name": "stdout",
     "output_type": "stream",
     "text": [
      "Epoch 1/5\n",
      "\u001b[1m3608/3608\u001b[0m \u001b[32m━━━━━━━━━━━━━━━━━━━━\u001b[0m\u001b[37m\u001b[0m \u001b[1m14s\u001b[0m 4ms/step - loss: 0.9665 - mae: 0.5077 - val_loss: 0.1486 - val_mae: 0.2751\n",
      "Epoch 2/5\n",
      "\u001b[1m3608/3608\u001b[0m \u001b[32m━━━━━━━━━━━━━━━━━━━━\u001b[0m\u001b[37m\u001b[0m \u001b[1m12s\u001b[0m 3ms/step - loss: 0.1529 - mae: 0.3022 - val_loss: 0.1511 - val_mae: 0.2569\n",
      "Epoch 3/5\n",
      "\u001b[1m3608/3608\u001b[0m \u001b[32m━━━━━━━━━━━━━━━━━━━━\u001b[0m\u001b[37m\u001b[0m \u001b[1m13s\u001b[0m 4ms/step - loss: 0.1503 - mae: 0.2948 - val_loss: 0.1501 - val_mae: 0.3319\n",
      "Epoch 4/5\n",
      "\u001b[1m3608/3608\u001b[0m \u001b[32m━━━━━━━━━━━━━━━━━━━━\u001b[0m\u001b[37m\u001b[0m \u001b[1m15s\u001b[0m 4ms/step - loss: 0.1500 - mae: 0.2958 - val_loss: 0.1463 - val_mae: 0.3142\n",
      "Epoch 5/5\n",
      "\u001b[1m3608/3608\u001b[0m \u001b[32m━━━━━━━━━━━━━━━━━━━━\u001b[0m\u001b[37m\u001b[0m \u001b[1m14s\u001b[0m 4ms/step - loss: 0.1493 - mae: 0.2954 - val_loss: 0.1450 - val_mae: 0.2880\n"
     ]
    },
    {
     "data": {
      "text/plain": [
       "<keras.src.callbacks.history.History at 0x1be6e8d3c50>"
      ]
     },
     "execution_count": 43,
     "metadata": {},
     "output_type": "execute_result"
    }
   ],
   "source": [
    "model.compile(optimizer='adam', loss='mean_squared_error', metrics=['mae'])\n",
    "model.fit(x_train_scaled, y_train, epochs=5, batch_size=32, validation_data=(x_test_scaled, y_test))"
   ]
  },
  {
   "cell_type": "markdown",
   "metadata": {},
   "source": [
    "Predicting dishes for user using userID :"
   ]
  },
  {
   "cell_type": "code",
   "execution_count": 47,
   "metadata": {},
   "outputs": [
    {
     "name": "stdout",
     "output_type": "stream",
     "text": [
      "\u001b[1m1042/1042\u001b[0m \u001b[32m━━━━━━━━━━━━━━━━━━━━\u001b[0m\u001b[37m\u001b[0m \u001b[1m1s\u001b[0m 562us/step\n",
      "40564     Gracie Allen's Classic Roast Beef\n",
      "87418         Old Fashioned Oatmeal Cookies\n",
      "130173        Boterkoek (Dutch Butter Cake)\n",
      "132627                       Date Nut Bread\n",
      "Name: Name, dtype: object\n"
     ]
    }
   ],
   "source": [
    "reviewer_id=1060485       #(allyop)\n",
    "\n",
    "final_processed_dataset_initial_temp=final_processed_dataset_initial[['RecipeId','Calories','FatContent','SaturatedFatContent','CarbohydrateContent','FiberContent','SugarContent','ProteinContent','Rating',\"ReviewerID\"]]\n",
    "final_processed_dataset_initial_temp=final_processed_dataset_initial_temp.copy()\n",
    "final_processed_dataset_initial_temp['ReviewerID']=reviewer_id\n",
    "final_processed_dataset_initial_temp=final_processed_dataset_initial_temp.drop_duplicates()\n",
    "\n",
    "user_input = np.array(final_processed_dataset_initial_temp)\n",
    "\n",
    "scaler = StandardScaler()\n",
    "user_input_scaled = scaler.fit_transform(user_input)\n",
    "\n",
    "ratings = model.predict(user_input_scaled)\n",
    "\n",
    "top_indices = np.argsort(ratings.flatten())[::-1][:5]\n",
    "top_dishes=final_processed_dataset_initial_temp.iloc[top_indices]\n",
    "\n",
    "print(final_processed_dataset_initial[final_processed_dataset_initial[\"RecipeId\"].isin(top_dishes[\"RecipeId\"])][\"Name\"].drop_duplicates())"
   ]
  }
 ],
 "metadata": {
  "kernelspec": {
   "display_name": "Python 3",
   "language": "python",
   "name": "python3"
  },
  "language_info": {
   "codemirror_mode": {
    "name": "ipython",
    "version": 3
   },
   "file_extension": ".py",
   "mimetype": "text/x-python",
   "name": "python",
   "nbconvert_exporter": "python",
   "pygments_lexer": "ipython3",
   "version": "3.11.4"
  }
 },
 "nbformat": 4,
 "nbformat_minor": 2
}
