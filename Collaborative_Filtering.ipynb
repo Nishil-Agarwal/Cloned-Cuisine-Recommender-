{
 "cells": [
  {
   "cell_type": "markdown",
   "metadata": {},
   "source": [
    "Creating Reviewer-Recipe-Rating matrix :"
   ]
  },
  {
   "cell_type": "code",
   "execution_count": 11,
   "metadata": {},
   "outputs": [],
   "source": [
    "import pandas as pd\n",
    "from sklearn.metrics.pairwise import cosine_similarity"
   ]
  },
  {
   "cell_type": "code",
   "execution_count": 12,
   "metadata": {},
   "outputs": [],
   "source": [
    "final_processed_dataset=pd.read_csv(r\"Final_Processed_Dataset.csv\")\n",
    "\n",
    "reviewer_recipe_rating_matrix = final_processed_dataset.pivot_table(index='ReviewerName', columns='Name', values='Rating')\n",
    "reviewer_recipe_rating_relation_matrix=reviewer_recipe_rating_matrix.fillna(0)"
   ]
  },
  {
   "cell_type": "markdown",
   "metadata": {},
   "source": [
    "Calculating cosine similarity matrix :"
   ]
  },
  {
   "cell_type": "code",
   "execution_count": 13,
   "metadata": {},
   "outputs": [
    {
     "name": "stdout",
     "output_type": "stream",
     "text": [
      "ReviewerName     .. Ameera ..    Carly    Pamela    Poppy   - Carla -  \\\n",
      "ReviewerName                                                            \n",
      " .. Ameera ..              1.0      0.0  0.000000      0.0    0.00000   \n",
      " Carly                     0.0      1.0  0.000000      0.0    0.00000   \n",
      " Pamela                    0.0      0.0  1.000000      0.0    0.02572   \n",
      " Poppy                     0.0      0.0  0.000000      1.0    0.00000   \n",
      "- Carla -                  0.0      0.0  0.025720      0.0    1.00000   \n",
      "...                        ...      ...       ...      ...        ...   \n",
      "znglass                    0.0      0.0  0.021809      0.0    0.00000   \n",
      "zoe.s.true                 0.0      0.0  0.000000      0.0    0.00000   \n",
      "zombiesgirl                0.0      0.0  0.000000      0.0    0.00000   \n",
      "zoo66                      0.0      0.0  0.000000      0.0    0.00000   \n",
      "zoyie                      0.0      0.0  0.000000      0.0    0.00000   \n",
      "\n",
      "ReviewerName     -------  -JL-6680     -JoeB  -OceanGirl-   -Sheri-  ...  \\\n",
      "ReviewerName                                                         ...   \n",
      " .. Ameera ..   0.000000  0.000000  0.000000     0.000000  0.000000  ...   \n",
      " Carly          0.000000  0.000000  0.000000     0.293236  0.000000  ...   \n",
      " Pamela         0.024834  0.000000  0.000000     0.030769  0.023655  ...   \n",
      " Poppy          0.000000  0.134717  0.000000     0.099567  0.000000  ...   \n",
      "- Carla -       0.059685  0.000000  0.030062     0.000000  0.000000  ...   \n",
      "...                  ...       ...       ...          ...       ...  ...   \n",
      "znglass         0.000000  0.000000  0.000000     0.000000  0.000000  ...   \n",
      "zoe.s.true      0.000000  0.000000  0.000000     0.000000  0.000000  ...   \n",
      "zombiesgirl     0.000000  0.000000  0.000000     0.000000  0.000000  ...   \n",
      "zoo66           0.000000  0.000000  0.000000     0.000000  0.000000  ...   \n",
      "zoyie           0.000000  0.000000  0.000000     0.000000  0.000000  ...   \n",
      "\n",
      "ReviewerName    zainab23  zannah17  zeldaz51  zelizabeth   ziggy54   znglass  \\\n",
      "ReviewerName                                                                   \n",
      " .. Ameera ..   0.000000  0.000000       0.0    0.000000  0.000000  0.000000   \n",
      " Carly          0.000000  0.000000       0.0    0.000000  0.000000  0.000000   \n",
      " Pamela         0.000000  0.020786       0.0    0.000000  0.020562  0.021809   \n",
      " Poppy          0.079581  0.000000       0.0    0.000000  0.103964  0.000000   \n",
      "- Carla -       0.000000  0.000000       0.0    0.071915  0.000000  0.000000   \n",
      "...                  ...       ...       ...         ...       ...       ...   \n",
      "znglass         0.000000  0.000000       0.0    0.000000  0.117851  1.000000   \n",
      "zoe.s.true      0.000000  0.000000       0.0    0.000000  0.000000  0.000000   \n",
      "zombiesgirl     0.000000  0.000000       0.0    0.000000  0.000000  0.000000   \n",
      "zoo66           0.000000  0.074769       0.0    0.000000  0.000000  0.000000   \n",
      "zoyie           0.000000  0.000000       0.0    0.000000  0.000000  0.000000   \n",
      "\n",
      "ReviewerName    zoe.s.true  zombiesgirl  zoo66  zoyie  \n",
      "ReviewerName                                           \n",
      " .. Ameera ..          0.0          0.0    0.0    0.0  \n",
      " Carly                 0.0          0.0    0.0    0.0  \n",
      " Pamela                0.0          0.0    0.0    0.0  \n",
      " Poppy                 0.0          0.0    0.0    0.0  \n",
      "- Carla -              0.0          0.0    0.0    0.0  \n",
      "...                    ...          ...    ...    ...  \n",
      "znglass                0.0          0.0    0.0    0.0  \n",
      "zoe.s.true             1.0          0.0    0.0    0.0  \n",
      "zombiesgirl            0.0          1.0    0.0    0.0  \n",
      "zoo66                  0.0          0.0    1.0    0.0  \n",
      "zoyie                  0.0          0.0    0.0    1.0  \n",
      "\n",
      "[7242 rows x 7242 columns]\n"
     ]
    },
    {
     "name": "stderr",
     "output_type": "stream",
     "text": [
      "c:\\Users\\nishi\\AppData\\Local\\Programs\\Python\\Python311\\Lib\\site-packages\\sklearn\\utils\\extmath.py:208: RuntimeWarning: invalid value encountered in matmul\n",
      "  ret = a @ b\n"
     ]
    }
   ],
   "source": [
    "cosine_similarity_matrix=cosine_similarity(reviewer_recipe_rating_relation_matrix)\n",
    "\n",
    "cosine_similarity_matrix = pd.DataFrame(cosine_similarity_matrix, index=reviewer_recipe_rating_relation_matrix.index, columns=reviewer_recipe_rating_relation_matrix.index)"
   ]
  },
  {
   "cell_type": "markdown",
   "metadata": {},
   "source": [
    "Predicting Ratings for all recipes where rating is nan for a each user one by one :"
   ]
  },
  {
   "cell_type": "code",
   "execution_count": null,
   "metadata": {},
   "outputs": [],
   "source": [
    "reviewer_recipe_rating_matrix"
   ]
  }
 ],
 "metadata": {
  "kernelspec": {
   "display_name": "Python 3",
   "language": "python",
   "name": "python3"
  },
  "language_info": {
   "codemirror_mode": {
    "name": "ipython",
    "version": 3
   },
   "file_extension": ".py",
   "mimetype": "text/x-python",
   "name": "python",
   "nbconvert_exporter": "python",
   "pygments_lexer": "ipython3",
   "version": "3.11.4"
  }
 },
 "nbformat": 4,
 "nbformat_minor": 2
}
