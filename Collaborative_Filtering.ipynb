{
 "cells": [
  {
   "cell_type": "markdown",
   "metadata": {},
   "source": [
    "Creating Reviewer-Recipe-Rating matrix :"
   ]
  },
  {
   "cell_type": "code",
   "execution_count": 328,
   "metadata": {},
   "outputs": [],
   "source": [
    "import pandas as pd\n",
    "from sklearn.metrics.pairwise import cosine_similarity"
   ]
  },
  {
   "cell_type": "code",
   "execution_count": 329,
   "metadata": {},
   "outputs": [],
   "source": [
    "final_processed_dataset=pd.read_csv(r\"Final_Processed_Dataset.csv\")\n",
    "\n",
    "reviewer_recipe_rating_matrix = final_processed_dataset.pivot_table(index='ReviewerName', columns='Name', values='Rating')"
   ]
  },
  {
   "cell_type": "markdown",
   "metadata": {},
   "source": [
    "Normalising rating of each reviewer's rating to penalise ratings of those who ovverrate/underrate irratically:"
   ]
  },
  {
   "cell_type": "code",
   "execution_count": 330,
   "metadata": {},
   "outputs": [],
   "source": [
    "def normalise_rating(user_ratings):\n",
    "    return user_ratings/user_ratings.sum()*user_ratings.count()"
   ]
  },
  {
   "cell_type": "code",
   "execution_count": 331,
   "metadata": {},
   "outputs": [],
   "source": [
    "reviewer_recipe_rating_matrix=reviewer_recipe_rating_matrix.apply(normalise_rating,axis=1)"
   ]
  },
  {
   "cell_type": "markdown",
   "metadata": {},
   "source": [
    "Calculating cosine similarity matrix :"
   ]
  },
  {
   "cell_type": "code",
   "execution_count": 332,
   "metadata": {},
   "outputs": [],
   "source": [
    "reviewer_recipe_rating_relation_matrix=reviewer_recipe_rating_matrix.fillna(0)\n",
    "\n",
    "from scipy.sparse import csr_matrix\n",
    "\n",
    "reviewer_recipe_rating_relation_matrix=csr_matrix(reviewer_recipe_rating_relation_matrix.values)\n",
    "cosine_similarity_matrix=cosine_similarity(reviewer_recipe_rating_relation_matrix)\n",
    "cosine_similarity_matrix = pd.DataFrame(cosine_similarity_matrix, index=reviewer_recipe_rating_matrix.index, columns=reviewer_recipe_rating_matrix.index)"
   ]
  },
  {
   "cell_type": "markdown",
   "metadata": {},
   "source": [
    "Predicting Ratings for all recipes where rating is nan for a each user one by one :"
   ]
  },
  {
   "cell_type": "code",
   "execution_count": 333,
   "metadata": {},
   "outputs": [],
   "source": [
    "# user=input(\"Tell your ReviewerName : \")\n",
    "user=\"Bergy\"\n",
    "\n",
    "user_index=cosine_similarity_matrix.index.get_loc(user)\n",
    "user_similarity=cosine_similarity_matrix[user]\n",
    "user_similarity.drop(user,inplace=True)\n",
    "# user_similarity=user_similarity/user_similarity.sum()  ---Wrong. weights.sum() should not include where nan values\n",
    "user_similarity=user_similarity.reset_index()\n",
    "reviewer_recipe_rating_matrix_temp=reviewer_recipe_rating_matrix.reset_index()"
   ]
  },
  {
   "cell_type": "markdown",
   "metadata": {},
   "source": [
    "Removing already rated/eaten dishes from possible recommendations :"
   ]
  },
  {
   "cell_type": "code",
   "execution_count": 334,
   "metadata": {},
   "outputs": [],
   "source": [
    "user_data=reviewer_recipe_rating_matrix_temp[reviewer_recipe_rating_matrix_temp[\"ReviewerName\"]==user]\n",
    "user_data=user_data.drop(\"ReviewerName\",axis=1)\n",
    "already_rated = user_data.loc[:, user_data.notna().any()]\n",
    "reviewer_recipe_rating_matrix_temp.drop(columns=already_rated.columns.tolist(),inplace=True)"
   ]
  },
  {
   "cell_type": "markdown",
   "metadata": {},
   "source": [
    "Applying appropropriate weights to ratings by other users as per similarity :"
   ]
  },
  {
   "cell_type": "code",
   "execution_count": 335,
   "metadata": {},
   "outputs": [],
   "source": [
    "def apply_similarity_weights(row):\n",
    "    return row*row.loc[user]"
   ]
  },
  {
   "cell_type": "code",
   "execution_count": 336,
   "metadata": {},
   "outputs": [],
   "source": [
    "merged_data=pd.merge(user_similarity,reviewer_recipe_rating_matrix_temp,on=\"ReviewerName\")\n",
    "merged_data.drop(\"ReviewerName\",axis=1,inplace=True)\n",
    "merged_data=merged_data.apply(apply_similarity_weights,axis=1)"
   ]
  },
  {
   "cell_type": "markdown",
   "metadata": {},
   "source": [
    "Normalising the weights :"
   ]
  },
  {
   "cell_type": "code",
   "execution_count": 337,
   "metadata": {},
   "outputs": [],
   "source": [
    "def weighted_ratings(column):\n",
    "    return column/column.count()"
   ]
  },
  {
   "cell_type": "code",
   "execution_count": 338,
   "metadata": {},
   "outputs": [],
   "source": [
    "merged_data=merged_data.apply(weighted_ratings,axis=0)\n",
    "merged_data.drop(user,axis=1,inplace=True)"
   ]
  },
  {
   "cell_type": "markdown",
   "metadata": {},
   "source": [
    "Final Recommendations :"
   ]
  },
  {
   "cell_type": "code",
   "execution_count": 339,
   "metadata": {},
   "outputs": [
    {
     "name": "stdout",
     "output_type": "stream",
     "text": [
      "0                               Ham &amp; Egg Casserole\n",
      "1     Shrimp Stir-Fry With Bok Choy, Mushrooms & Pep...\n",
      "2       Perch or Snapper Fillet With Tomatoes and Onion\n",
      "3             Filet of Sole With Spinach &amp; Tomatoes\n",
      "4                                        Turtle Cookies\n",
      "5                          Apple Cider Vinegar Marinade\n",
      "6                                   Roasted Red Snapper\n",
      "7                            Healthy Egg Salad Sandwich\n",
      "8                                 Diabetic Bran Muffins\n",
      "9                                     Healthy Manicotti\n",
      "10                               Easy Cherry Cheesecake\n",
      "11                Camembert Fondue With Truffle Essence\n",
      "12                                       Rich Cornbread\n",
      "13                      Easy Microwave Rocky Road Fudge\n",
      "14                                    Hot Chicken Wings\n",
      "15    Spinach Walnut Salad W. Raspberry Walnut Vinai...\n",
      "16                            Ricotta Stuffed Mushrooms\n",
      "17                               Stuffed Baked Potatoes\n",
      "18                                Lean Protein Pancakes\n",
      "19                                   Sprouts Sandwiches\n",
      "Name: index, dtype: object\n"
     ]
    }
   ],
   "source": [
    "top_20_recommend=merged_data.sum(axis=0).sort_values(ascending=False).iloc[0:20]\n",
    "print(top_20_recommend.reset_index()[\"index\"])"
   ]
  }
 ],
 "metadata": {
  "kernelspec": {
   "display_name": "Python 3",
   "language": "python",
   "name": "python3"
  },
  "language_info": {
   "codemirror_mode": {
    "name": "ipython",
    "version": 3
   },
   "file_extension": ".py",
   "mimetype": "text/x-python",
   "name": "python",
   "nbconvert_exporter": "python",
   "pygments_lexer": "ipython3",
   "version": "3.11.4"
  }
 },
 "nbformat": 4,
 "nbformat_minor": 2
}
