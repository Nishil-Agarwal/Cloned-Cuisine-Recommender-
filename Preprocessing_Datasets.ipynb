{
 "cells": [
  {
   "cell_type": "markdown",
   "metadata": {},
   "source": [
    "Reading dataset recipes and filtering out useless columns :"
   ]
  },
  {
   "cell_type": "code",
   "execution_count": 1,
   "metadata": {},
   "outputs": [],
   "source": [
    "import pandas as pd\n",
    "\n",
    "data=pd.read_csv(r\"recipes.csv\")\n",
    "\n",
    "#Filtering columns based on requirement :-\n",
    "cols_filtered_data=data[[\"RecipeId\", \"Name\", \"AuthorId\", \"AuthorName\", \"CookTime\", \"PrepTime\",\n",
    "        \"DatePublished\", \"RecipeCategory\", \"AggregatedRating\", \"ReviewCount\", \n",
    "        \"Calories\", \"FatContent\", \"SaturatedFatContent\", \"CholesterolContent\", \"SodiumContent\", \n",
    "        \"CarbohydrateContent\", \"FiberContent\", \"SugarContent\", \"ProteinContent\", \"RecipeServings\"]]"
   ]
  },
  {
   "cell_type": "markdown",
   "metadata": {},
   "source": [
    "Removing Trash rows"
   ]
  },
  {
   "cell_type": "code",
   "execution_count": 2,
   "metadata": {},
   "outputs": [],
   "source": [
    "cols_filtered_data=cols_filtered_data.drop(index=range(1438, 1488))"
   ]
  },
  {
   "cell_type": "markdown",
   "metadata": {},
   "source": [
    "Removing columns not having a rating assigned or lesser than 3 ratings :"
   ]
  },
  {
   "cell_type": "code",
   "execution_count": 3,
   "metadata": {},
   "outputs": [],
   "source": [
    "\n",
    "#Removing columns without rating :-\n",
    "cols_filtered_data=cols_filtered_data.dropna(subset=[\"AggregatedRating\"])\n",
    "cols_filtered_data=cols_filtered_data[cols_filtered_data[\"ReviewCount\"]>3]"
   ]
  },
  {
   "cell_type": "markdown",
   "metadata": {},
   "source": [
    "Choosing diverse rating dishes :"
   ]
  },
  {
   "cell_type": "code",
   "execution_count": 4,
   "metadata": {},
   "outputs": [],
   "source": [
    "#Choosing mixed rating dishes :-\n",
    "rating_above_45=cols_filtered_data[cols_filtered_data[\"AggregatedRating\"]>=4.5][0:10000]\n",
    "rating_below_4=cols_filtered_data[cols_filtered_data[\"AggregatedRating\"]<4.5][0:33000]\n",
    "cols_filtered_data=pd.concat([rating_above_45,rating_below_4],axis=0)"
   ]
  },
  {
   "cell_type": "markdown",
   "metadata": {},
   "source": [
    "Changing date-time to only have year :"
   ]
  },
  {
   "cell_type": "code",
   "execution_count": 5,
   "metadata": {},
   "outputs": [],
   "source": [
    "#Modifying column to store date in required format :- (Only year of publish)\n",
    "cols_filtered_data[\"DatePublished\"]=cols_filtered_data[\"DatePublished\"].str[0:4]"
   ]
  },
  {
   "cell_type": "markdown",
   "metadata": {},
   "source": [
    "Replacing blank and wrong data :"
   ]
  },
  {
   "cell_type": "code",
   "execution_count": 6,
   "metadata": {},
   "outputs": [],
   "source": [
    "\n",
    "\n",
    "#Replacing all blank entries in columns with default data\n",
    "for i in cols_filtered_data:\n",
    "    if i not in [\"RecipeId\", \"Name\", \"AuthorId\", \"AuthorName\",\"DatePublished\", \"RecipeCategory\",\"RecipeServings\"]:\n",
    "        cols_filtered_data[i].fillna(0, inplace=True)\n",
    "    elif i==\"RecipeServings\":\n",
    "        cols_filtered_data[i].fillna(-1, inplace=True)   #-1 code for serving parameter not applicable. Eg: items like sauce"
   ]
  },
  {
   "cell_type": "markdown",
   "metadata": {},
   "source": [
    "Creating function for converting data like 2H2M to 122 mins :"
   ]
  },
  {
   "cell_type": "code",
   "execution_count": 7,
   "metadata": {},
   "outputs": [],
   "source": [
    "def time_to_mins(strig):\n",
    "    if strig==0:\n",
    "        return 0\n",
    "    else:\n",
    "        a=0\n",
    "        b=0\n",
    "        if strig[1]==\"H\":\n",
    "            a=int(strig[0])\n",
    "        elif len(strig)>2 and strig[2]==\"H\":\n",
    "            a=int(strig[0:2])\n",
    "        if strig[-1]==\"M\":\n",
    "            if len(strig)>2 and strig[-3].isdigit():\n",
    "                b=int(strig[-3:-1])\n",
    "            else:\n",
    "                b=int(strig[-2])\n",
    "        return a*60+b"
   ]
  },
  {
   "cell_type": "markdown",
   "metadata": {},
   "source": [
    "Converting Prep time and Cook time to minutes"
   ]
  },
  {
   "cell_type": "code",
   "execution_count": 8,
   "metadata": {},
   "outputs": [],
   "source": [
    "#Converting PrepTime and CookTime column entries to numerical format :-\n",
    "cols_filtered_data[\"PrepTime\"]=cols_filtered_data[\"PrepTime\"].str.lstrip(\"PT\")\n",
    "cols_filtered_data[\"CookTime\"]=cols_filtered_data[\"CookTime\"].str.lstrip(\"PT\")\n",
    "cols_filtered_data[\"PrepTime\"].fillna(0,inplace=True)\n",
    "cols_filtered_data[\"CookTime\"].fillna(0,inplace=True)\n",
    "cols_filtered_data[\"PrepTime\"].replace(\"0S\",0,inplace=True)\n",
    "cols_filtered_data[\"CookTime\"].replace(\"0S\",0,inplace=True)\n",
    "cols_filtered_data[\"PrepTime\"]=cols_filtered_data[\"PrepTime\"].apply(time_to_mins)\n",
    "cols_filtered_data[\"CookTime\"]=cols_filtered_data[\"CookTime\"].apply(time_to_mins)"
   ]
  },
  {
   "cell_type": "markdown",
   "metadata": {},
   "source": [
    "Removing duplicate name entries :"
   ]
  },
  {
   "cell_type": "code",
   "execution_count": 9,
   "metadata": {},
   "outputs": [],
   "source": [
    "\n",
    "#Removing duplicate items :-\n",
    "final_recipes_dataset=cols_filtered_data.drop_duplicates(subset=[\"Name\"])"
   ]
  },
  {
   "cell_type": "markdown",
   "metadata": {},
   "source": [
    "Pasting processed recipe dataset into new file :"
   ]
  },
  {
   "cell_type": "code",
   "execution_count": 10,
   "metadata": {},
   "outputs": [],
   "source": [
    "# cols_filtered_data.to_csv(r\"C:\\Users\\nishi\\Vs_Code_Projects\\IIITD\\SEM 4\\SML\\Project\\Processed_Recipes_Dataset.csv\",index=False)"
   ]
  },
  {
   "cell_type": "markdown",
   "metadata": {},
   "source": [
    "Reading dataset reviews and filtering out useless columns :"
   ]
  },
  {
   "cell_type": "code",
   "execution_count": 11,
   "metadata": {},
   "outputs": [],
   "source": [
    "data=pd.read_csv(r\"reviews.csv\")\n",
    "\n",
    "#Filtering columns based on requirement :-\n",
    "recipes_dataset=data[[\"ReviewId\",\"RecipeId\", \"AuthorId\", \"AuthorName\", \"Rating\"]]\n",
    "recipes_dataset=recipes_dataset.rename(columns={\"AuthorId\":\"ReviewerID\", \"AuthorName\":\"ReviewerName\"})"
   ]
  },
  {
   "cell_type": "markdown",
   "metadata": {},
   "source": [
    "Merging datasets based on ReviewId :"
   ]
  },
  {
   "cell_type": "code",
   "execution_count": 12,
   "metadata": {},
   "outputs": [],
   "source": [
    "final_processed_dataset=pd.merge(final_recipes_dataset,recipes_dataset,on=\"RecipeId\")"
   ]
  },
  {
   "cell_type": "markdown",
   "metadata": {},
   "source": [
    "Pasting Final processed data into new file"
   ]
  },
  {
   "cell_type": "code",
   "execution_count": 13,
   "metadata": {},
   "outputs": [],
   "source": [
    "final_processed_dataset.to_csv(r\"Final_Processed_Dataset.csv\",index=False)"
   ]
  }
 ],
 "metadata": {
  "kernelspec": {
   "display_name": "Python 3",
   "language": "python",
   "name": "python3"
  },
  "language_info": {
   "codemirror_mode": {
    "name": "ipython",
    "version": 3
   },
   "file_extension": ".py",
   "mimetype": "text/x-python",
   "name": "python",
   "nbconvert_exporter": "python",
   "pygments_lexer": "ipython3",
   "version": "3.11.9"
  }
 },
 "nbformat": 4,
 "nbformat_minor": 2
}
